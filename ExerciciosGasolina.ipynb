{
  "cells": [
    {
      "cell_type": "markdown",
      "id": "eb29fb7a-5c3a-46df-a5f9-627148c66351",
      "metadata": {
        "id": "eb29fb7a-5c3a-46df-a5f9-627148c66351"
      },
      "source": [
        "## Exercícios"
      ]
    },
    {
      "cell_type": "markdown",
      "id": "ad2f7eba-5091-4fec-b113-487186883a09",
      "metadata": {
        "id": "ad2f7eba-5091-4fec-b113-487186883a09"
      },
      "source": [
        "Link para Dataset: https://www.kaggle.com/datasets/matheusfreitag/gas-prices-in-brazil"
      ]
    },
    {
      "cell_type": "code",
      "execution_count": 2,
      "id": "d0e9c6b9-3840-47a5-956f-9954b612c657",
      "metadata": {
        "id": "d0e9c6b9-3840-47a5-956f-9954b612c657"
      },
      "outputs": [],
      "source": [
        "import pandas as pd # importando o pandas"
      ]
    },
    {
      "cell_type": "markdown",
      "id": "76366baf-6608-4ad2-b14b-ff048e5adb90",
      "metadata": {
        "id": "76366baf-6608-4ad2-b14b-ff048e5adb90"
      },
      "source": [
        "## Neste projeto, trabalharemos com dois arquivos csvs separados, contendo informações sobre o preço da gasolina no Brasil.\n",
        "\n",
        "### 1. Carregue os conjuntos de dados \"gasolina_2000+.csv\" e \"gasolina_2010+.csv\" em dois DataFrames diferentes e combine-os em um único DataFrame."
      ]
    },
    {
      "cell_type": "code",
      "execution_count": 9,
      "id": "c7decfae-2c39-48fb-8412-6dd2e789f28e",
      "metadata": {
        "colab": {
          "base_uri": "https://localhost:8080/"
        },
        "id": "c7decfae-2c39-48fb-8412-6dd2e789f28e",
        "outputId": "dc5c8d93-d3a2-4ea9-82e3-150874ed8c7a"
      },
      "outputs": [
        {
          "output_type": "stream",
          "name": "stderr",
          "text": [
            "<ipython-input-9-5b44809a4880>:3: DtypeWarning: Columns (12,14,15,16,17,18) have mixed types. Specify dtype option on import or set low_memory=False.\n",
            "  df2= pd.read_csv(\"sample_data/gasolina_2010+.csv\",index_col=0)\n"
          ]
        }
      ],
      "source": [
        "df1= pd.read_csv(\"sample_data/gasolina_2000+.csv\", index_col=0) # ele vem com uma coluna unnamed\n",
        "#logo para arrumar, digitamos index_col=0\n",
        "df2= pd.read_csv(\"sample_data/gasolina_2010+.csv\",index_col=0)"
      ]
    },
    {
      "cell_type": "markdown",
      "source": [
        "# carregando os dois em um só"
      ],
      "metadata": {
        "id": "T3OPrraIaRCh"
      },
      "id": "T3OPrraIaRCh"
    },
    {
      "cell_type": "code",
      "source": [
        "df = pd.concat([df1,df2])"
      ],
      "metadata": {
        "id": "JdjV7HROaVWn"
      },
      "id": "JdjV7HROaVWn",
      "execution_count": 10,
      "outputs": []
    },
    {
      "cell_type": "markdown",
      "id": "6cd74f39-565b-47ea-9171-9679eb964b1c",
      "metadata": {
        "id": "6cd74f39-565b-47ea-9171-9679eb964b1c"
      },
      "source": [
        "### 2.Investigue as colunas e entenda o conjunto de dados usando o head() e info()"
      ]
    },
    {
      "cell_type": "code",
      "execution_count": 13,
      "id": "079e63b5-4836-4332-86ee-11c804543571",
      "metadata": {
        "colab": {
          "base_uri": "https://localhost:8080/",
          "height": 345
        },
        "id": "079e63b5-4836-4332-86ee-11c804543571",
        "outputId": "8b817078-fb9c-49de-b509-c3bb437a034a"
      },
      "outputs": [
        {
          "output_type": "execute_result",
          "data": {
            "text/plain": [
              "  DATA INICIAL  DATA FINAL        REGIÃO              ESTADO  \\\n",
              "0   2004-05-09  2004-05-15  CENTRO OESTE    DISTRITO FEDERAL   \n",
              "1   2004-05-09  2004-05-15  CENTRO OESTE               GOIAS   \n",
              "2   2004-05-09  2004-05-15  CENTRO OESTE         MATO GROSSO   \n",
              "3   2004-05-09  2004-05-15  CENTRO OESTE  MATO GROSSO DO SUL   \n",
              "4   2004-05-09  2004-05-15      NORDESTE             ALAGOAS   \n",
              "\n",
              "            PRODUTO  NÚMERO DE POSTOS PESQUISADOS UNIDADE DE MEDIDA  \\\n",
              "0  ETANOL HIDRATADO                           127              R$/l   \n",
              "1  ETANOL HIDRATADO                           387              R$/l   \n",
              "2  ETANOL HIDRATADO                           192              R$/l   \n",
              "3  ETANOL HIDRATADO                           162              R$/l   \n",
              "4  ETANOL HIDRATADO                           103              R$/l   \n",
              "\n",
              "   PREÇO MÉDIO REVENDA  DESVIO PADRÃO REVENDA  PREÇO MÍNIMO REVENDA  \\\n",
              "0                1.288                  0.016                  1.19   \n",
              "1                1.162                  0.114                  0.89   \n",
              "2                1.389                  0.097                  1.18   \n",
              "3                1.262                  0.070                  1.09   \n",
              "4                1.181                  0.078                  1.05   \n",
              "\n",
              "   PREÇO MÁXIMO REVENDA MARGEM MÉDIA REVENDA  COEF DE VARIAÇÃO REVENDA  \\\n",
              "0                 1.350                0.463                     0.012   \n",
              "1                 1.449                0.399                     0.098   \n",
              "2                 1.760                0.419                     0.070   \n",
              "3                 1.509                0.432                     0.055   \n",
              "4                 1.400                 0.24                     0.066   \n",
              "\n",
              "  PREÇO MÉDIO DISTRIBUIÇÃO DESVIO PADRÃO DISTRIBUIÇÃO  \\\n",
              "0                    0.825                       0.11   \n",
              "1                    0.763                      0.088   \n",
              "2                     0.97                      0.095   \n",
              "3                     0.83                      0.119   \n",
              "4                    0.941                      0.077   \n",
              "\n",
              "  PREÇO MÍNIMO DISTRIBUIÇÃO PREÇO MÁXIMO DISTRIBUIÇÃO  \\\n",
              "0                    0.4201                    0.9666   \n",
              "1                    0.5013                      1.05   \n",
              "2                    0.5614                     1.161   \n",
              "3                    0.5991                   1.22242   \n",
              "4                    0.7441                    1.0317   \n",
              "\n",
              "  COEF DE VARIAÇÃO DISTRIBUIÇÃO  \n",
              "0                         0.133  \n",
              "1                         0.115  \n",
              "2                         0.098  \n",
              "3                         0.143  \n",
              "4                         0.082  "
            ],
            "text/html": [
              "\n",
              "  <div id=\"df-363fbe35-9548-4088-9ac5-a6c394e4456d\" class=\"colab-df-container\">\n",
              "    <div>\n",
              "<style scoped>\n",
              "    .dataframe tbody tr th:only-of-type {\n",
              "        vertical-align: middle;\n",
              "    }\n",
              "\n",
              "    .dataframe tbody tr th {\n",
              "        vertical-align: top;\n",
              "    }\n",
              "\n",
              "    .dataframe thead th {\n",
              "        text-align: right;\n",
              "    }\n",
              "</style>\n",
              "<table border=\"1\" class=\"dataframe\">\n",
              "  <thead>\n",
              "    <tr style=\"text-align: right;\">\n",
              "      <th></th>\n",
              "      <th>DATA INICIAL</th>\n",
              "      <th>DATA FINAL</th>\n",
              "      <th>REGIÃO</th>\n",
              "      <th>ESTADO</th>\n",
              "      <th>PRODUTO</th>\n",
              "      <th>NÚMERO DE POSTOS PESQUISADOS</th>\n",
              "      <th>UNIDADE DE MEDIDA</th>\n",
              "      <th>PREÇO MÉDIO REVENDA</th>\n",
              "      <th>DESVIO PADRÃO REVENDA</th>\n",
              "      <th>PREÇO MÍNIMO REVENDA</th>\n",
              "      <th>PREÇO MÁXIMO REVENDA</th>\n",
              "      <th>MARGEM MÉDIA REVENDA</th>\n",
              "      <th>COEF DE VARIAÇÃO REVENDA</th>\n",
              "      <th>PREÇO MÉDIO DISTRIBUIÇÃO</th>\n",
              "      <th>DESVIO PADRÃO DISTRIBUIÇÃO</th>\n",
              "      <th>PREÇO MÍNIMO DISTRIBUIÇÃO</th>\n",
              "      <th>PREÇO MÁXIMO DISTRIBUIÇÃO</th>\n",
              "      <th>COEF DE VARIAÇÃO DISTRIBUIÇÃO</th>\n",
              "    </tr>\n",
              "  </thead>\n",
              "  <tbody>\n",
              "    <tr>\n",
              "      <th>0</th>\n",
              "      <td>2004-05-09</td>\n",
              "      <td>2004-05-15</td>\n",
              "      <td>CENTRO OESTE</td>\n",
              "      <td>DISTRITO FEDERAL</td>\n",
              "      <td>ETANOL HIDRATADO</td>\n",
              "      <td>127</td>\n",
              "      <td>R$/l</td>\n",
              "      <td>1.288</td>\n",
              "      <td>0.016</td>\n",
              "      <td>1.19</td>\n",
              "      <td>1.350</td>\n",
              "      <td>0.463</td>\n",
              "      <td>0.012</td>\n",
              "      <td>0.825</td>\n",
              "      <td>0.11</td>\n",
              "      <td>0.4201</td>\n",
              "      <td>0.9666</td>\n",
              "      <td>0.133</td>\n",
              "    </tr>\n",
              "    <tr>\n",
              "      <th>1</th>\n",
              "      <td>2004-05-09</td>\n",
              "      <td>2004-05-15</td>\n",
              "      <td>CENTRO OESTE</td>\n",
              "      <td>GOIAS</td>\n",
              "      <td>ETANOL HIDRATADO</td>\n",
              "      <td>387</td>\n",
              "      <td>R$/l</td>\n",
              "      <td>1.162</td>\n",
              "      <td>0.114</td>\n",
              "      <td>0.89</td>\n",
              "      <td>1.449</td>\n",
              "      <td>0.399</td>\n",
              "      <td>0.098</td>\n",
              "      <td>0.763</td>\n",
              "      <td>0.088</td>\n",
              "      <td>0.5013</td>\n",
              "      <td>1.05</td>\n",
              "      <td>0.115</td>\n",
              "    </tr>\n",
              "    <tr>\n",
              "      <th>2</th>\n",
              "      <td>2004-05-09</td>\n",
              "      <td>2004-05-15</td>\n",
              "      <td>CENTRO OESTE</td>\n",
              "      <td>MATO GROSSO</td>\n",
              "      <td>ETANOL HIDRATADO</td>\n",
              "      <td>192</td>\n",
              "      <td>R$/l</td>\n",
              "      <td>1.389</td>\n",
              "      <td>0.097</td>\n",
              "      <td>1.18</td>\n",
              "      <td>1.760</td>\n",
              "      <td>0.419</td>\n",
              "      <td>0.070</td>\n",
              "      <td>0.97</td>\n",
              "      <td>0.095</td>\n",
              "      <td>0.5614</td>\n",
              "      <td>1.161</td>\n",
              "      <td>0.098</td>\n",
              "    </tr>\n",
              "    <tr>\n",
              "      <th>3</th>\n",
              "      <td>2004-05-09</td>\n",
              "      <td>2004-05-15</td>\n",
              "      <td>CENTRO OESTE</td>\n",
              "      <td>MATO GROSSO DO SUL</td>\n",
              "      <td>ETANOL HIDRATADO</td>\n",
              "      <td>162</td>\n",
              "      <td>R$/l</td>\n",
              "      <td>1.262</td>\n",
              "      <td>0.070</td>\n",
              "      <td>1.09</td>\n",
              "      <td>1.509</td>\n",
              "      <td>0.432</td>\n",
              "      <td>0.055</td>\n",
              "      <td>0.83</td>\n",
              "      <td>0.119</td>\n",
              "      <td>0.5991</td>\n",
              "      <td>1.22242</td>\n",
              "      <td>0.143</td>\n",
              "    </tr>\n",
              "    <tr>\n",
              "      <th>4</th>\n",
              "      <td>2004-05-09</td>\n",
              "      <td>2004-05-15</td>\n",
              "      <td>NORDESTE</td>\n",
              "      <td>ALAGOAS</td>\n",
              "      <td>ETANOL HIDRATADO</td>\n",
              "      <td>103</td>\n",
              "      <td>R$/l</td>\n",
              "      <td>1.181</td>\n",
              "      <td>0.078</td>\n",
              "      <td>1.05</td>\n",
              "      <td>1.400</td>\n",
              "      <td>0.24</td>\n",
              "      <td>0.066</td>\n",
              "      <td>0.941</td>\n",
              "      <td>0.077</td>\n",
              "      <td>0.7441</td>\n",
              "      <td>1.0317</td>\n",
              "      <td>0.082</td>\n",
              "    </tr>\n",
              "  </tbody>\n",
              "</table>\n",
              "</div>\n",
              "    <div class=\"colab-df-buttons\">\n",
              "\n",
              "  <div class=\"colab-df-container\">\n",
              "    <button class=\"colab-df-convert\" onclick=\"convertToInteractive('df-363fbe35-9548-4088-9ac5-a6c394e4456d')\"\n",
              "            title=\"Convert this dataframe to an interactive table.\"\n",
              "            style=\"display:none;\">\n",
              "\n",
              "  <svg xmlns=\"http://www.w3.org/2000/svg\" height=\"24px\" viewBox=\"0 -960 960 960\">\n",
              "    <path d=\"M120-120v-720h720v720H120Zm60-500h600v-160H180v160Zm220 220h160v-160H400v160Zm0 220h160v-160H400v160ZM180-400h160v-160H180v160Zm440 0h160v-160H620v160ZM180-180h160v-160H180v160Zm440 0h160v-160H620v160Z\"/>\n",
              "  </svg>\n",
              "    </button>\n",
              "\n",
              "  <style>\n",
              "    .colab-df-container {\n",
              "      display:flex;\n",
              "      gap: 12px;\n",
              "    }\n",
              "\n",
              "    .colab-df-convert {\n",
              "      background-color: #E8F0FE;\n",
              "      border: none;\n",
              "      border-radius: 50%;\n",
              "      cursor: pointer;\n",
              "      display: none;\n",
              "      fill: #1967D2;\n",
              "      height: 32px;\n",
              "      padding: 0 0 0 0;\n",
              "      width: 32px;\n",
              "    }\n",
              "\n",
              "    .colab-df-convert:hover {\n",
              "      background-color: #E2EBFA;\n",
              "      box-shadow: 0px 1px 2px rgba(60, 64, 67, 0.3), 0px 1px 3px 1px rgba(60, 64, 67, 0.15);\n",
              "      fill: #174EA6;\n",
              "    }\n",
              "\n",
              "    .colab-df-buttons div {\n",
              "      margin-bottom: 4px;\n",
              "    }\n",
              "\n",
              "    [theme=dark] .colab-df-convert {\n",
              "      background-color: #3B4455;\n",
              "      fill: #D2E3FC;\n",
              "    }\n",
              "\n",
              "    [theme=dark] .colab-df-convert:hover {\n",
              "      background-color: #434B5C;\n",
              "      box-shadow: 0px 1px 3px 1px rgba(0, 0, 0, 0.15);\n",
              "      filter: drop-shadow(0px 1px 2px rgba(0, 0, 0, 0.3));\n",
              "      fill: #FFFFFF;\n",
              "    }\n",
              "  </style>\n",
              "\n",
              "    <script>\n",
              "      const buttonEl =\n",
              "        document.querySelector('#df-363fbe35-9548-4088-9ac5-a6c394e4456d button.colab-df-convert');\n",
              "      buttonEl.style.display =\n",
              "        google.colab.kernel.accessAllowed ? 'block' : 'none';\n",
              "\n",
              "      async function convertToInteractive(key) {\n",
              "        const element = document.querySelector('#df-363fbe35-9548-4088-9ac5-a6c394e4456d');\n",
              "        const dataTable =\n",
              "          await google.colab.kernel.invokeFunction('convertToInteractive',\n",
              "                                                    [key], {});\n",
              "        if (!dataTable) return;\n",
              "\n",
              "        const docLinkHtml = 'Like what you see? Visit the ' +\n",
              "          '<a target=\"_blank\" href=https://colab.research.google.com/notebooks/data_table.ipynb>data table notebook</a>'\n",
              "          + ' to learn more about interactive tables.';\n",
              "        element.innerHTML = '';\n",
              "        dataTable['output_type'] = 'display_data';\n",
              "        await google.colab.output.renderOutput(dataTable, element);\n",
              "        const docLink = document.createElement('div');\n",
              "        docLink.innerHTML = docLinkHtml;\n",
              "        element.appendChild(docLink);\n",
              "      }\n",
              "    </script>\n",
              "  </div>\n",
              "\n",
              "\n",
              "<div id=\"df-577dbded-6dc8-4e7b-9bea-1a6305c41aa3\">\n",
              "  <button class=\"colab-df-quickchart\" onclick=\"quickchart('df-577dbded-6dc8-4e7b-9bea-1a6305c41aa3')\"\n",
              "            title=\"Suggest charts\"\n",
              "            style=\"display:none;\">\n",
              "\n",
              "<svg xmlns=\"http://www.w3.org/2000/svg\" height=\"24px\"viewBox=\"0 0 24 24\"\n",
              "     width=\"24px\">\n",
              "    <g>\n",
              "        <path d=\"M19 3H5c-1.1 0-2 .9-2 2v14c0 1.1.9 2 2 2h14c1.1 0 2-.9 2-2V5c0-1.1-.9-2-2-2zM9 17H7v-7h2v7zm4 0h-2V7h2v10zm4 0h-2v-4h2v4z\"/>\n",
              "    </g>\n",
              "</svg>\n",
              "  </button>\n",
              "\n",
              "<style>\n",
              "  .colab-df-quickchart {\n",
              "      --bg-color: #E8F0FE;\n",
              "      --fill-color: #1967D2;\n",
              "      --hover-bg-color: #E2EBFA;\n",
              "      --hover-fill-color: #174EA6;\n",
              "      --disabled-fill-color: #AAA;\n",
              "      --disabled-bg-color: #DDD;\n",
              "  }\n",
              "\n",
              "  [theme=dark] .colab-df-quickchart {\n",
              "      --bg-color: #3B4455;\n",
              "      --fill-color: #D2E3FC;\n",
              "      --hover-bg-color: #434B5C;\n",
              "      --hover-fill-color: #FFFFFF;\n",
              "      --disabled-bg-color: #3B4455;\n",
              "      --disabled-fill-color: #666;\n",
              "  }\n",
              "\n",
              "  .colab-df-quickchart {\n",
              "    background-color: var(--bg-color);\n",
              "    border: none;\n",
              "    border-radius: 50%;\n",
              "    cursor: pointer;\n",
              "    display: none;\n",
              "    fill: var(--fill-color);\n",
              "    height: 32px;\n",
              "    padding: 0;\n",
              "    width: 32px;\n",
              "  }\n",
              "\n",
              "  .colab-df-quickchart:hover {\n",
              "    background-color: var(--hover-bg-color);\n",
              "    box-shadow: 0 1px 2px rgba(60, 64, 67, 0.3), 0 1px 3px 1px rgba(60, 64, 67, 0.15);\n",
              "    fill: var(--button-hover-fill-color);\n",
              "  }\n",
              "\n",
              "  .colab-df-quickchart-complete:disabled,\n",
              "  .colab-df-quickchart-complete:disabled:hover {\n",
              "    background-color: var(--disabled-bg-color);\n",
              "    fill: var(--disabled-fill-color);\n",
              "    box-shadow: none;\n",
              "  }\n",
              "\n",
              "  .colab-df-spinner {\n",
              "    border: 2px solid var(--fill-color);\n",
              "    border-color: transparent;\n",
              "    border-bottom-color: var(--fill-color);\n",
              "    animation:\n",
              "      spin 1s steps(1) infinite;\n",
              "  }\n",
              "\n",
              "  @keyframes spin {\n",
              "    0% {\n",
              "      border-color: transparent;\n",
              "      border-bottom-color: var(--fill-color);\n",
              "      border-left-color: var(--fill-color);\n",
              "    }\n",
              "    20% {\n",
              "      border-color: transparent;\n",
              "      border-left-color: var(--fill-color);\n",
              "      border-top-color: var(--fill-color);\n",
              "    }\n",
              "    30% {\n",
              "      border-color: transparent;\n",
              "      border-left-color: var(--fill-color);\n",
              "      border-top-color: var(--fill-color);\n",
              "      border-right-color: var(--fill-color);\n",
              "    }\n",
              "    40% {\n",
              "      border-color: transparent;\n",
              "      border-right-color: var(--fill-color);\n",
              "      border-top-color: var(--fill-color);\n",
              "    }\n",
              "    60% {\n",
              "      border-color: transparent;\n",
              "      border-right-color: var(--fill-color);\n",
              "    }\n",
              "    80% {\n",
              "      border-color: transparent;\n",
              "      border-right-color: var(--fill-color);\n",
              "      border-bottom-color: var(--fill-color);\n",
              "    }\n",
              "    90% {\n",
              "      border-color: transparent;\n",
              "      border-bottom-color: var(--fill-color);\n",
              "    }\n",
              "  }\n",
              "</style>\n",
              "\n",
              "  <script>\n",
              "    async function quickchart(key) {\n",
              "      const quickchartButtonEl =\n",
              "        document.querySelector('#' + key + ' button');\n",
              "      quickchartButtonEl.disabled = true;  // To prevent multiple clicks.\n",
              "      quickchartButtonEl.classList.add('colab-df-spinner');\n",
              "      try {\n",
              "        const charts = await google.colab.kernel.invokeFunction(\n",
              "            'suggestCharts', [key], {});\n",
              "      } catch (error) {\n",
              "        console.error('Error during call to suggestCharts:', error);\n",
              "      }\n",
              "      quickchartButtonEl.classList.remove('colab-df-spinner');\n",
              "      quickchartButtonEl.classList.add('colab-df-quickchart-complete');\n",
              "    }\n",
              "    (() => {\n",
              "      let quickchartButtonEl =\n",
              "        document.querySelector('#df-577dbded-6dc8-4e7b-9bea-1a6305c41aa3 button');\n",
              "      quickchartButtonEl.style.display =\n",
              "        google.colab.kernel.accessAllowed ? 'block' : 'none';\n",
              "    })();\n",
              "  </script>\n",
              "</div>\n",
              "    </div>\n",
              "  </div>\n"
            ]
          },
          "metadata": {},
          "execution_count": 13
        }
      ],
      "source": [
        "df.head() # entendendo os dados, séries temporais, períodos de preço de gasolina, e outros dados."
      ]
    },
    {
      "cell_type": "code",
      "source": [
        "df.info() # mostra todas as colunas, tipo dos dados"
      ],
      "metadata": {
        "id": "fNaoQet8a2B5"
      },
      "id": "fNaoQet8a2B5",
      "execution_count": null,
      "outputs": []
    },
    {
      "cell_type": "markdown",
      "id": "2bcb2d2f-1c32-4583-8981-ca5b6ed0e048",
      "metadata": {
        "id": "2bcb2d2f-1c32-4583-8981-ca5b6ed0e048"
      },
      "source": [
        "### 3. Selecione a terceira entrada da coluna DATA INICIAL e verifique seu tipo."
      ]
    },
    {
      "cell_type": "code",
      "execution_count": 19,
      "id": "c4399a8c-0ad3-4b6e-bcd8-d701438892fe",
      "metadata": {
        "colab": {
          "base_uri": "https://localhost:8080/"
        },
        "id": "c4399a8c-0ad3-4b6e-bcd8-d701438892fe",
        "outputId": "97a076a9-e470-4d00-fe69-0178eda8d21a"
      },
      "outputs": [
        {
          "output_type": "execute_result",
          "data": {
            "text/plain": [
              "str"
            ]
          },
          "metadata": {},
          "execution_count": 19
        }
      ],
      "source": [
        "type(df[\"DATA INICIAL\"][3]) # ela é do tipo str, no entanto para\n",
        "# uma análise mais técnica, é necessário mudar ela."
      ]
    },
    {
      "cell_type": "markdown",
      "id": "7eda8c87-eef7-4b66-97ee-46629b214fc7",
      "metadata": {
        "id": "7eda8c87-eef7-4b66-97ee-46629b214fc7"
      },
      "source": [
        "### 4. Você deve ter percebido que as colunas DATA INICIAL e DATA FINAL estão formatadas como string. Utilizando o método pd.to_datetime(), converta ambas colunas para Timestamp / Datetime."
      ]
    },
    {
      "cell_type": "code",
      "execution_count": 22,
      "id": "6813ae62-bdd0-4f73-8278-7fa0e0027f9c",
      "metadata": {
        "id": "6813ae62-bdd0-4f73-8278-7fa0e0027f9c"
      },
      "outputs": [],
      "source": [
        "df[\"DATA INICIAL\"]=pd.to_datetime(df[\"DATA INICIAL\"])"
      ]
    },
    {
      "cell_type": "code",
      "source": [
        "df[\"DATA FINAL\"]=pd.to_datetime(df[\"DATA FINAL\"])"
      ],
      "metadata": {
        "id": "Vm4LnwDWdl54"
      },
      "id": "Vm4LnwDWdl54",
      "execution_count": 44,
      "outputs": []
    },
    {
      "cell_type": "markdown",
      "id": "2f9aaafa-f9a4-4f07-9bc6-86e5911c863c",
      "metadata": {
        "id": "2f9aaafa-f9a4-4f07-9bc6-86e5911c863c"
      },
      "source": [
        "### 5. Crie uma nova coluna para representar o ano e o mês(aaaa-mm), utilizando a coluna DATA FINAL como referência."
      ]
    },
    {
      "cell_type": "code",
      "execution_count": 46,
      "id": "03f15a92-bae5-4256-add1-a7c97fe9f01d",
      "metadata": {
        "id": "03f15a92-bae5-4256-add1-a7c97fe9f01d"
      },
      "outputs": [],
      "source": [
        "df[\"ANO-MES\"] = df[\"DATA FINAL\"].apply(lambda x: \"{}\".format(x.year)) + df[\"DATA FINAL\"].apply(lambda x: \"-{:02d}\".format(x.month))"
      ]
    },
    {
      "cell_type": "code",
      "source": [
        "df[\"ANO-MES\"]"
      ],
      "metadata": {
        "colab": {
          "base_uri": "https://localhost:8080/"
        },
        "id": "JlXoMMrLiT-d",
        "outputId": "89db5e2f-a647-4043-9ea0-63a686aac522"
      },
      "id": "JlXoMMrLiT-d",
      "execution_count": 47,
      "outputs": [
        {
          "output_type": "execute_result",
          "data": {
            "text/plain": [
              "0         2004-05\n",
              "1         2004-05\n",
              "2         2004-05\n",
              "3         2004-05\n",
              "4         2004-05\n",
              "           ...   \n",
              "120818    2021-05\n",
              "120819    2021-05\n",
              "120820    2021-05\n",
              "120821    2021-05\n",
              "120822    2021-05\n",
              "Name: ANO-MES, Length: 120823, dtype: object"
            ]
          },
          "metadata": {},
          "execution_count": 47
        }
      ]
    },
    {
      "cell_type": "code",
      "source": [],
      "metadata": {
        "id": "Im3lLrQCiehi"
      },
      "id": "Im3lLrQCiehi",
      "execution_count": null,
      "outputs": []
    },
    {
      "cell_type": "markdown",
      "id": "7d25e880-b153-4cce-8268-8388c3de52a3",
      "metadata": {
        "id": "7d25e880-b153-4cce-8268-8388c3de52a3"
      },
      "source": [
        "### 6. Utilizando o value_counts(), liste todos os tipos de produtos contidos na base de dados."
      ]
    },
    {
      "cell_type": "code",
      "execution_count": null,
      "id": "f953fa16-59bd-40d9-90c0-af138acb4191",
      "metadata": {
        "id": "f953fa16-59bd-40d9-90c0-af138acb4191"
      },
      "outputs": [],
      "source": [
        "df.columns # todas as colunas"
      ]
    },
    {
      "cell_type": "code",
      "source": [
        "df['PRODUTO'].value_counts()"
      ],
      "metadata": {
        "id": "ysCVenCSf987"
      },
      "id": "ysCVenCSf987",
      "execution_count": null,
      "outputs": []
    },
    {
      "cell_type": "markdown",
      "id": "fab0300f-7c49-48be-b95a-948601713229",
      "metadata": {
        "id": "fab0300f-7c49-48be-b95a-948601713229"
      },
      "source": [
        "### 7. Filtre o DataFrame para obter apenas dados da 'GASOLINA COMUM'. Grave em uma nova variável."
      ]
    },
    {
      "cell_type": "code",
      "source": [
        "# listando qnd isso sera vdd\n",
        "df['PRODUTO'] == 'GASOLINA COMUM'"
      ],
      "metadata": {
        "id": "_pBdSwlMgegU"
      },
      "id": "_pBdSwlMgegU",
      "execution_count": null,
      "outputs": []
    },
    {
      "cell_type": "code",
      "execution_count": 51,
      "id": "6f1a53ad-2f8e-48b3-b1f3-05698caec5a7",
      "metadata": {
        "id": "6f1a53ad-2f8e-48b3-b1f3-05698caec5a7"
      },
      "outputs": [],
      "source": [
        "df_filtro = df['PRODUTO'] == 'GASOLINA COMUM' # abrimos colchetes no df e aplicamos uma regra lógica"
      ]
    },
    {
      "cell_type": "code",
      "source": [
        "df2 = df[df_filtro] # tem valores de true ou false"
      ],
      "metadata": {
        "id": "2-dV3Vo9giR8"
      },
      "id": "2-dV3Vo9giR8",
      "execution_count": 52,
      "outputs": []
    },
    {
      "cell_type": "code",
      "source": [
        "df2.shape # tamanho, 23 mil linhas e 19 colnas e só tem gasolina comum"
      ],
      "metadata": {
        "colab": {
          "base_uri": "https://localhost:8080/"
        },
        "id": "dv9RWggRhZed",
        "outputId": "2089f738-62c2-458f-cd9d-b44222230d8a"
      },
      "id": "dv9RWggRhZed",
      "execution_count": 53,
      "outputs": [
        {
          "output_type": "execute_result",
          "data": {
            "text/plain": [
              "(23570, 19)"
            ]
          },
          "metadata": {},
          "execution_count": 53
        }
      ]
    },
    {
      "cell_type": "markdown",
      "id": "fb031b0b-51e7-43d7-b2cb-10da05019a73",
      "metadata": {
        "id": "fb031b0b-51e7-43d7-b2cb-10da05019a73"
      },
      "source": [
        "### 8. Qual o preço médio de revenda da gasolina em agosto de 2008?"
      ]
    },
    {
      "cell_type": "code",
      "execution_count": 56,
      "id": "3ba34e10-cc51-4b04-b67a-4245248907ed",
      "metadata": {
        "colab": {
          "base_uri": "https://localhost:8080/"
        },
        "id": "3ba34e10-cc51-4b04-b67a-4245248907ed",
        "outputId": "947b8f58-a8a0-4559-feee-f555d42691bd"
      },
      "outputs": [
        {
          "output_type": "execute_result",
          "data": {
            "text/plain": [
              "2.6012444444444442"
            ]
          },
          "metadata": {},
          "execution_count": 56
        }
      ],
      "source": [
        "df2[df2[\"ANO-MES\"] == '2008-08'][\"PREÇO MÉDIO REVENDA\"].mean()"
      ]
    },
    {
      "cell_type": "markdown",
      "id": "a57428cc-e9e6-48f8-a7f7-27fb9c87bcde",
      "metadata": {
        "id": "a57428cc-e9e6-48f8-a7f7-27fb9c87bcde"
      },
      "source": [
        "### 9. Qual o preço médio de revenda da gasolina em maio de 2014 em São Paulo?"
      ]
    },
    {
      "cell_type": "code",
      "execution_count": 58,
      "id": "e981678b-85db-499a-8466-e24c455ea20c",
      "metadata": {
        "colab": {
          "base_uri": "https://localhost:8080/"
        },
        "id": "e981678b-85db-499a-8466-e24c455ea20c",
        "outputId": "26a43314-2663-4153-8628-09f867b0e0d2"
      },
      "outputs": [
        {
          "output_type": "execute_result",
          "data": {
            "text/plain": [
              "2.4046"
            ]
          },
          "metadata": {},
          "execution_count": 58
        }
      ],
      "source": [
        "df2[(df2[\"ANO-MES\"] == '2008-08') & (df2[\"ESTADO\"] == 'SAO PAULO')][\"PREÇO MÉDIO REVENDA\"].mean()"
      ]
    },
    {
      "cell_type": "markdown",
      "id": "6ab2edd0-8bf7-49d7-b3e8-5535ec4a58cf",
      "metadata": {
        "id": "6ab2edd0-8bf7-49d7-b3e8-5535ec4a58cf"
      },
      "source": [
        "### 10. Você conseguiria descobrir em qual(quais) estado(s) a gasolina ultrapassou a barreira dos R$ 5,00? E quando isso ocorreu?"
      ]
    },
    {
      "cell_type": "code",
      "execution_count": 59,
      "id": "32a9045a-899c-4775-8b66-c0490f3e62a7",
      "metadata": {
        "colab": {
          "base_uri": "https://localhost:8080/",
          "height": 206
        },
        "id": "32a9045a-899c-4775-8b66-c0490f3e62a7",
        "outputId": "8aee8af6-b2d4-4f05-ccda-97037cee9bc3"
      },
      "outputs": [
        {
          "output_type": "execute_result",
          "data": {
            "text/plain": [
              "               ESTADO  ANO-MES  PREÇO MÉDIO REVENDA\n",
              "98201            ACRE  2018-05                5.053\n",
              "98347            ACRE  2018-06                5.035\n",
              "98493            ACRE  2018-06                5.038\n",
              "98511  RIO DE JANEIRO  2018-06                5.016\n",
              "98646            ACRE  2018-06                5.031"
            ],
            "text/html": [
              "\n",
              "  <div id=\"df-8eb6b259-633b-4361-8664-b5c79d8088ec\" class=\"colab-df-container\">\n",
              "    <div>\n",
              "<style scoped>\n",
              "    .dataframe tbody tr th:only-of-type {\n",
              "        vertical-align: middle;\n",
              "    }\n",
              "\n",
              "    .dataframe tbody tr th {\n",
              "        vertical-align: top;\n",
              "    }\n",
              "\n",
              "    .dataframe thead th {\n",
              "        text-align: right;\n",
              "    }\n",
              "</style>\n",
              "<table border=\"1\" class=\"dataframe\">\n",
              "  <thead>\n",
              "    <tr style=\"text-align: right;\">\n",
              "      <th></th>\n",
              "      <th>ESTADO</th>\n",
              "      <th>ANO-MES</th>\n",
              "      <th>PREÇO MÉDIO REVENDA</th>\n",
              "    </tr>\n",
              "  </thead>\n",
              "  <tbody>\n",
              "    <tr>\n",
              "      <th>98201</th>\n",
              "      <td>ACRE</td>\n",
              "      <td>2018-05</td>\n",
              "      <td>5.053</td>\n",
              "    </tr>\n",
              "    <tr>\n",
              "      <th>98347</th>\n",
              "      <td>ACRE</td>\n",
              "      <td>2018-06</td>\n",
              "      <td>5.035</td>\n",
              "    </tr>\n",
              "    <tr>\n",
              "      <th>98493</th>\n",
              "      <td>ACRE</td>\n",
              "      <td>2018-06</td>\n",
              "      <td>5.038</td>\n",
              "    </tr>\n",
              "    <tr>\n",
              "      <th>98511</th>\n",
              "      <td>RIO DE JANEIRO</td>\n",
              "      <td>2018-06</td>\n",
              "      <td>5.016</td>\n",
              "    </tr>\n",
              "    <tr>\n",
              "      <th>98646</th>\n",
              "      <td>ACRE</td>\n",
              "      <td>2018-06</td>\n",
              "      <td>5.031</td>\n",
              "    </tr>\n",
              "  </tbody>\n",
              "</table>\n",
              "</div>\n",
              "    <div class=\"colab-df-buttons\">\n",
              "\n",
              "  <div class=\"colab-df-container\">\n",
              "    <button class=\"colab-df-convert\" onclick=\"convertToInteractive('df-8eb6b259-633b-4361-8664-b5c79d8088ec')\"\n",
              "            title=\"Convert this dataframe to an interactive table.\"\n",
              "            style=\"display:none;\">\n",
              "\n",
              "  <svg xmlns=\"http://www.w3.org/2000/svg\" height=\"24px\" viewBox=\"0 -960 960 960\">\n",
              "    <path d=\"M120-120v-720h720v720H120Zm60-500h600v-160H180v160Zm220 220h160v-160H400v160Zm0 220h160v-160H400v160ZM180-400h160v-160H180v160Zm440 0h160v-160H620v160ZM180-180h160v-160H180v160Zm440 0h160v-160H620v160Z\"/>\n",
              "  </svg>\n",
              "    </button>\n",
              "\n",
              "  <style>\n",
              "    .colab-df-container {\n",
              "      display:flex;\n",
              "      gap: 12px;\n",
              "    }\n",
              "\n",
              "    .colab-df-convert {\n",
              "      background-color: #E8F0FE;\n",
              "      border: none;\n",
              "      border-radius: 50%;\n",
              "      cursor: pointer;\n",
              "      display: none;\n",
              "      fill: #1967D2;\n",
              "      height: 32px;\n",
              "      padding: 0 0 0 0;\n",
              "      width: 32px;\n",
              "    }\n",
              "\n",
              "    .colab-df-convert:hover {\n",
              "      background-color: #E2EBFA;\n",
              "      box-shadow: 0px 1px 2px rgba(60, 64, 67, 0.3), 0px 1px 3px 1px rgba(60, 64, 67, 0.15);\n",
              "      fill: #174EA6;\n",
              "    }\n",
              "\n",
              "    .colab-df-buttons div {\n",
              "      margin-bottom: 4px;\n",
              "    }\n",
              "\n",
              "    [theme=dark] .colab-df-convert {\n",
              "      background-color: #3B4455;\n",
              "      fill: #D2E3FC;\n",
              "    }\n",
              "\n",
              "    [theme=dark] .colab-df-convert:hover {\n",
              "      background-color: #434B5C;\n",
              "      box-shadow: 0px 1px 3px 1px rgba(0, 0, 0, 0.15);\n",
              "      filter: drop-shadow(0px 1px 2px rgba(0, 0, 0, 0.3));\n",
              "      fill: #FFFFFF;\n",
              "    }\n",
              "  </style>\n",
              "\n",
              "    <script>\n",
              "      const buttonEl =\n",
              "        document.querySelector('#df-8eb6b259-633b-4361-8664-b5c79d8088ec button.colab-df-convert');\n",
              "      buttonEl.style.display =\n",
              "        google.colab.kernel.accessAllowed ? 'block' : 'none';\n",
              "\n",
              "      async function convertToInteractive(key) {\n",
              "        const element = document.querySelector('#df-8eb6b259-633b-4361-8664-b5c79d8088ec');\n",
              "        const dataTable =\n",
              "          await google.colab.kernel.invokeFunction('convertToInteractive',\n",
              "                                                    [key], {});\n",
              "        if (!dataTable) return;\n",
              "\n",
              "        const docLinkHtml = 'Like what you see? Visit the ' +\n",
              "          '<a target=\"_blank\" href=https://colab.research.google.com/notebooks/data_table.ipynb>data table notebook</a>'\n",
              "          + ' to learn more about interactive tables.';\n",
              "        element.innerHTML = '';\n",
              "        dataTable['output_type'] = 'display_data';\n",
              "        await google.colab.output.renderOutput(dataTable, element);\n",
              "        const docLink = document.createElement('div');\n",
              "        docLink.innerHTML = docLinkHtml;\n",
              "        element.appendChild(docLink);\n",
              "      }\n",
              "    </script>\n",
              "  </div>\n",
              "\n",
              "\n",
              "<div id=\"df-aa7c768c-66ea-4f83-a839-936cb6a09d5f\">\n",
              "  <button class=\"colab-df-quickchart\" onclick=\"quickchart('df-aa7c768c-66ea-4f83-a839-936cb6a09d5f')\"\n",
              "            title=\"Suggest charts\"\n",
              "            style=\"display:none;\">\n",
              "\n",
              "<svg xmlns=\"http://www.w3.org/2000/svg\" height=\"24px\"viewBox=\"0 0 24 24\"\n",
              "     width=\"24px\">\n",
              "    <g>\n",
              "        <path d=\"M19 3H5c-1.1 0-2 .9-2 2v14c0 1.1.9 2 2 2h14c1.1 0 2-.9 2-2V5c0-1.1-.9-2-2-2zM9 17H7v-7h2v7zm4 0h-2V7h2v10zm4 0h-2v-4h2v4z\"/>\n",
              "    </g>\n",
              "</svg>\n",
              "  </button>\n",
              "\n",
              "<style>\n",
              "  .colab-df-quickchart {\n",
              "      --bg-color: #E8F0FE;\n",
              "      --fill-color: #1967D2;\n",
              "      --hover-bg-color: #E2EBFA;\n",
              "      --hover-fill-color: #174EA6;\n",
              "      --disabled-fill-color: #AAA;\n",
              "      --disabled-bg-color: #DDD;\n",
              "  }\n",
              "\n",
              "  [theme=dark] .colab-df-quickchart {\n",
              "      --bg-color: #3B4455;\n",
              "      --fill-color: #D2E3FC;\n",
              "      --hover-bg-color: #434B5C;\n",
              "      --hover-fill-color: #FFFFFF;\n",
              "      --disabled-bg-color: #3B4455;\n",
              "      --disabled-fill-color: #666;\n",
              "  }\n",
              "\n",
              "  .colab-df-quickchart {\n",
              "    background-color: var(--bg-color);\n",
              "    border: none;\n",
              "    border-radius: 50%;\n",
              "    cursor: pointer;\n",
              "    display: none;\n",
              "    fill: var(--fill-color);\n",
              "    height: 32px;\n",
              "    padding: 0;\n",
              "    width: 32px;\n",
              "  }\n",
              "\n",
              "  .colab-df-quickchart:hover {\n",
              "    background-color: var(--hover-bg-color);\n",
              "    box-shadow: 0 1px 2px rgba(60, 64, 67, 0.3), 0 1px 3px 1px rgba(60, 64, 67, 0.15);\n",
              "    fill: var(--button-hover-fill-color);\n",
              "  }\n",
              "\n",
              "  .colab-df-quickchart-complete:disabled,\n",
              "  .colab-df-quickchart-complete:disabled:hover {\n",
              "    background-color: var(--disabled-bg-color);\n",
              "    fill: var(--disabled-fill-color);\n",
              "    box-shadow: none;\n",
              "  }\n",
              "\n",
              "  .colab-df-spinner {\n",
              "    border: 2px solid var(--fill-color);\n",
              "    border-color: transparent;\n",
              "    border-bottom-color: var(--fill-color);\n",
              "    animation:\n",
              "      spin 1s steps(1) infinite;\n",
              "  }\n",
              "\n",
              "  @keyframes spin {\n",
              "    0% {\n",
              "      border-color: transparent;\n",
              "      border-bottom-color: var(--fill-color);\n",
              "      border-left-color: var(--fill-color);\n",
              "    }\n",
              "    20% {\n",
              "      border-color: transparent;\n",
              "      border-left-color: var(--fill-color);\n",
              "      border-top-color: var(--fill-color);\n",
              "    }\n",
              "    30% {\n",
              "      border-color: transparent;\n",
              "      border-left-color: var(--fill-color);\n",
              "      border-top-color: var(--fill-color);\n",
              "      border-right-color: var(--fill-color);\n",
              "    }\n",
              "    40% {\n",
              "      border-color: transparent;\n",
              "      border-right-color: var(--fill-color);\n",
              "      border-top-color: var(--fill-color);\n",
              "    }\n",
              "    60% {\n",
              "      border-color: transparent;\n",
              "      border-right-color: var(--fill-color);\n",
              "    }\n",
              "    80% {\n",
              "      border-color: transparent;\n",
              "      border-right-color: var(--fill-color);\n",
              "      border-bottom-color: var(--fill-color);\n",
              "    }\n",
              "    90% {\n",
              "      border-color: transparent;\n",
              "      border-bottom-color: var(--fill-color);\n",
              "    }\n",
              "  }\n",
              "</style>\n",
              "\n",
              "  <script>\n",
              "    async function quickchart(key) {\n",
              "      const quickchartButtonEl =\n",
              "        document.querySelector('#' + key + ' button');\n",
              "      quickchartButtonEl.disabled = true;  // To prevent multiple clicks.\n",
              "      quickchartButtonEl.classList.add('colab-df-spinner');\n",
              "      try {\n",
              "        const charts = await google.colab.kernel.invokeFunction(\n",
              "            'suggestCharts', [key], {});\n",
              "      } catch (error) {\n",
              "        console.error('Error during call to suggestCharts:', error);\n",
              "      }\n",
              "      quickchartButtonEl.classList.remove('colab-df-spinner');\n",
              "      quickchartButtonEl.classList.add('colab-df-quickchart-complete');\n",
              "    }\n",
              "    (() => {\n",
              "      let quickchartButtonEl =\n",
              "        document.querySelector('#df-aa7c768c-66ea-4f83-a839-936cb6a09d5f button');\n",
              "      quickchartButtonEl.style.display =\n",
              "        google.colab.kernel.accessAllowed ? 'block' : 'none';\n",
              "    })();\n",
              "  </script>\n",
              "</div>\n",
              "    </div>\n",
              "  </div>\n"
            ]
          },
          "metadata": {},
          "execution_count": 59
        }
      ],
      "source": [
        "df2[df2[\"PREÇO MÉDIO REVENDA\"] > 5][[\"ESTADO\", \"ANO-MES\", \"PREÇO MÉDIO REVENDA\"]].head(5) # lista de filtros\n",
        "#[[\"ESTADO\", \"ANO-MES\", \"PREÇO MÉDIO REVENDA\"]].head(5)\n",
        "# lógica df2[df2[\"PREÇO MÉDIO REVENDA\"] > 5]"
      ]
    },
    {
      "cell_type": "markdown",
      "id": "80f4c3a6-ba0e-43b0-a328-91c0aa04348c",
      "metadata": {
        "id": "80f4c3a6-ba0e-43b0-a328-91c0aa04348c"
      },
      "source": [
        "### 11. Qual a média de preço dos estados da região sul em 2012?"
      ]
    },
    {
      "cell_type": "code",
      "execution_count": 60,
      "id": "e6bbbe89-3dc9-4264-ba31-2ce5aa76054b",
      "metadata": {
        "id": "e6bbbe89-3dc9-4264-ba31-2ce5aa76054b"
      },
      "outputs": [],
      "source": [
        "df_aux = df2[(df2[\"DATA FINAL\"].apply(lambda x: x.year) == 2012)] # filtro estados em 2012, convertendo em ano"
      ]
    },
    {
      "cell_type": "code",
      "source": [
        "df_aux # só em 2012"
      ],
      "metadata": {
        "id": "yaBG9vs_rwno"
      },
      "id": "yaBG9vs_rwno",
      "execution_count": null,
      "outputs": []
    },
    {
      "cell_type": "code",
      "source": [
        "df_aux[df_aux[\"REGIÃO\"] == \"SUL\"][\"PREÇO MÉDIO REVENDA\"].mean() # filtro na região sul"
      ],
      "metadata": {
        "colab": {
          "base_uri": "https://localhost:8080/"
        },
        "id": "OOgGncVMrznS",
        "outputId": "7c99fdc7-d419-4a80-ab35-2d0214154f24"
      },
      "id": "OOgGncVMrznS",
      "execution_count": 63,
      "outputs": [
        {
          "output_type": "execute_result",
          "data": {
            "text/plain": [
              "2.7214423076923073"
            ]
          },
          "metadata": {},
          "execution_count": 63
        }
      ]
    },
    {
      "cell_type": "code",
      "source": [
        "df_aux1 = df2[(df2[\"DATA FINAL\"].apply(lambda x: x.year) == 2019)]"
      ],
      "metadata": {
        "id": "F2BI5wsWtCfV"
      },
      "id": "F2BI5wsWtCfV",
      "execution_count": 65,
      "outputs": []
    },
    {
      "cell_type": "code",
      "source": [
        "df_aux1[df_aux1[\"REGIÃO\"] == \"SUL\"][\"PREÇO MÉDIO REVENDA\"].mean() # filtro na região sul em 2019"
      ],
      "metadata": {
        "colab": {
          "base_uri": "https://localhost:8080/"
        },
        "id": "LWiN_IWptHu9",
        "outputId": "c4aea77e-3236-4ad6-db9f-51d078a0e3b2"
      },
      "id": "LWiN_IWptHu9",
      "execution_count": 67,
      "outputs": [
        {
          "output_type": "execute_result",
          "data": {
            "text/plain": [
              "4.252782051282051"
            ]
          },
          "metadata": {},
          "execution_count": 67
        }
      ]
    },
    {
      "cell_type": "markdown",
      "id": "28781cbf-0dba-4512-83df-87537e548c63",
      "metadata": {
        "id": "28781cbf-0dba-4512-83df-87537e548c63"
      },
      "source": [
        "### 12. Você conseguiria obter uma tabela contendo a variação percentual ano a ano para o estado do Rio de Janeiro?"
      ]
    },
    {
      "cell_type": "code",
      "execution_count": null,
      "id": "09d2d505-127b-47ff-8fe5-0c6170da3900",
      "metadata": {
        "id": "09d2d505-127b-47ff-8fe5-0c6170da3900"
      },
      "outputs": [],
      "source": [
        "df2[\"MES\"] = df2[\"DATA FINAL\"].apply(lambda x: x.month) # criar coluna mes , transformando em mes\n",
        "df_rio = df2[df2[\"ESTADO\"] == \"RIO DE JANEIRO\"] # filtro do estado do rio de janeiro"
      ]
    },
    {
      "cell_type": "code",
      "source": [
        "df_month_rio=df_rio.groupby(\"ANO-MES\")[[\"PREÇO MÉDIO REVENDA\", \"MES\"]].last() # agrupamento com a ultima informaçao\n",
        "#dessas ultimas datas do mes"
      ],
      "metadata": {
        "id": "EmWQo3jBtmgT"
      },
      "id": "EmWQo3jBtmgT",
      "execution_count": 70,
      "outputs": []
    },
    {
      "cell_type": "code",
      "source": [
        "df_month_rio[df_month_rio[\"MES\"]==12].shift(1) #shift desloca para baixo o índice fixo\n",
        "# shit muito importante para o mercado financeiro"
      ],
      "metadata": {
        "id": "4f9kq-0KuDKV"
      },
      "id": "4f9kq-0KuDKV",
      "execution_count": null,
      "outputs": []
    },
    {
      "cell_type": "code",
      "source": [
        "(df_month_rio[df_month_rio[\"MES\"]==12]/df_month_rio[df_month_rio[\"MES\"]==12].shift(1) - 1) * 100\n",
        "# variação em percentual o quanto o preço variou em 2012, a maior variação fi em 2015."
      ],
      "metadata": {
        "id": "u6vXk22duiIG"
      },
      "id": "u6vXk22duiIG",
      "execution_count": null,
      "outputs": []
    },
    {
      "cell_type": "markdown",
      "id": "d5e51a54-13f7-4f62-9903-235ac6256b38",
      "metadata": {
        "id": "d5e51a54-13f7-4f62-9903-235ac6256b38"
      },
      "source": [
        "### DESAFIO: Crie uma tabela contendo uma serie temporal com a diferença absoluta e percentual entre os valores mais baratos e caros. Apresente também ao lado os estados na qual os maiores e menores preços foram registrados."
      ]
    },
    {
      "cell_type": "code",
      "execution_count": 76,
      "id": "82b2263c-99d4-47ac-a7ea-ae5f1057d71f",
      "metadata": {
        "id": "82b2263c-99d4-47ac-a7ea-ae5f1057d71f"
      },
      "outputs": [],
      "source": [
        "df_max = df2.groupby(\"ANO-MES\").max()[\"PREÇO MÉDIO REVENDA\"].sort_index()\n",
        "idx_max = df2.groupby('ANO-MES')[\"PREÇO MÉDIO REVENDA\"].idxmin()\n",
        "\n",
        "df_min = df2.groupby(\"ANO-MES\").min()[\"PREÇO MÉDIO REVENDA\"].sort_index()\n",
        "idx_min = df2.groupby('ANO-MES')[\"PREÇO MÉDIO REVENDA\"].idxmax()\n",
        "df_diff = pd.DataFrame()"
      ]
    },
    {
      "cell_type": "code",
      "source": [
        "df_diff[\"abs_diff\"] = df_max - df_min\n",
        "df_diff[\"perct_diff\"] = (df_max - df_min) / df_min * 100\n",
        "df_diff[\"max\"] = df_max\n",
        "df_diff[\"min\"] = df_min"
      ],
      "metadata": {
        "id": "qlFPv9QfA9xO"
      },
      "id": "qlFPv9QfA9xO",
      "execution_count": 77,
      "outputs": []
    },
    {
      "cell_type": "code",
      "source": [
        "df2.loc[idx_max, :][[\"ESTADO\", \"PREÇO MÉDIO REVENDA\", \"ANO-MES\"]]"
      ],
      "metadata": {
        "id": "6qXooWM6BAgk"
      },
      "id": "6qXooWM6BAgk",
      "execution_count": null,
      "outputs": []
    },
    {
      "cell_type": "code",
      "source": [
        "df_diff[\"ESTADO_MAX\"] = df2.loc[idx_max, :][\"ESTADO\"].values\n",
        "df_diff[\"ESTADO_MIN\"] = df2.loc[idx_min, :][\"ESTADO\"].values"
      ],
      "metadata": {
        "id": "8x6LbsVlBDLd"
      },
      "id": "8x6LbsVlBDLd",
      "execution_count": 79,
      "outputs": []
    },
    {
      "cell_type": "code",
      "source": [
        "df_diff[\"ESTADO_MAX\"].value_counts()"
      ],
      "metadata": {
        "id": "eowddgLJBFeV"
      },
      "id": "eowddgLJBFeV",
      "execution_count": null,
      "outputs": []
    },
    {
      "cell_type": "code",
      "source": [
        "df_diff[\"ESTADO_MIN\"].value_counts()"
      ],
      "metadata": {
        "colab": {
          "base_uri": "https://localhost:8080/"
        },
        "id": "wYvE9dTSBH89",
        "outputId": "ccca58c5-763d-49d7-ada6-92184af665e4"
      },
      "id": "wYvE9dTSBH89",
      "execution_count": 81,
      "outputs": [
        {
          "output_type": "execute_result",
          "data": {
            "text/plain": [
              "ACRE              166\n",
              "MATO GROSSO        25\n",
              "RIO DE JANEIRO     11\n",
              "RORAIMA             2\n",
              "Name: ESTADO_MIN, dtype: int64"
            ]
          },
          "metadata": {},
          "execution_count": 81
        }
      ]
    }
  ],
  "metadata": {
    "kernelspec": {
      "display_name": "Python 3 (ipykernel)",
      "language": "python",
      "name": "python3"
    },
    "language_info": {
      "codemirror_mode": {
        "name": "ipython",
        "version": 3
      },
      "file_extension": ".py",
      "mimetype": "text/x-python",
      "name": "python",
      "nbconvert_exporter": "python",
      "pygments_lexer": "ipython3",
      "version": "3.9.12"
    },
    "colab": {
      "provenance": []
    }
  },
  "nbformat": 4,
  "nbformat_minor": 5
}